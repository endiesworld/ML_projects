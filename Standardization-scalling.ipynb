{
 "cells": [
  {
   "cell_type": "code",
   "execution_count": 1,
   "id": "c35c3b56-9476-4591-b32f-69fea5dc6f3c",
   "metadata": {},
   "outputs": [],
   "source": [
    "# 📦 Import Required Libraries\n",
    "from sklearn.pipeline import Pipeline\n",
    "from sklearn.impute import SimpleImputer\n",
    "from sklearn.preprocessing import StandardScaler\n",
    "from sklearn.ensemble import RandomForestClassifier\n",
    "from sklearn.model_selection import GridSearchCV, train_test_split\n",
    "from sklearn.datasets import load_breast_cancer\n",
    "from sklearn.metrics import classification_report\n",
    "import pandas as pd\n",
    "import numpy as np\n"
   ]
  },
  {
   "cell_type": "code",
   "execution_count": 3,
   "id": "4f8de59a-fb30-4213-8e58-fe641c26fabf",
   "metadata": {},
   "outputs": [],
   "source": [
    "# 🧪 Load a Sample Dataset\n",
    "# We use Breast Cancer dataset from sklearn for binary classification\n",
    "\n",
    "data = load_breast_cancer()\n",
    "X, y = data.data, data.target\n",
    "\n",
    "# Split the data into training and testing sets (80% train, 20% test)\n",
    "X_train, X_test, y_train, y_test = train_test_split(X, y, test_size=0.2, random_state=42)\n"
   ]
  },
  {
   "cell_type": "code",
   "execution_count": 5,
   "id": "fcb1c5c4-500d-4c59-b5cf-7055e497016a",
   "metadata": {},
   "outputs": [],
   "source": [
    "# 🔧 Define a Pipeline\n",
    "\n",
    "# The pipeline includes:\n",
    "# 1. Imputation: Filling in missing values using SimpleImputer\n",
    "# 2. Scaling: Standardizing features with StandardScaler\n",
    "# 3. Modeling: Training a RandomForestClassifier\n",
    "\n",
    "pipeline = Pipeline([\n",
    "    ('imputer', SimpleImputer()),             # Step 1: Handle missing values\n",
    "    ('scaler', StandardScaler()),             # Step 2: Feature scaling\n",
    "    ('clf', RandomForestClassifier())         # Step 3: ML model\n",
    "])\n"
   ]
  },
  {
   "cell_type": "code",
   "execution_count": null,
   "id": "8193acc9-389b-4899-86db-b41941ac35a6",
   "metadata": {},
   "outputs": [],
   "source": []
  }
 ],
 "metadata": {
  "kernelspec": {
   "display_name": "Python 3 (ipykernel)",
   "language": "python",
   "name": "python3"
  },
  "language_info": {
   "codemirror_mode": {
    "name": "ipython",
    "version": 3
   },
   "file_extension": ".py",
   "mimetype": "text/x-python",
   "name": "python",
   "nbconvert_exporter": "python",
   "pygments_lexer": "ipython3",
   "version": "3.12.4"
  }
 },
 "nbformat": 4,
 "nbformat_minor": 5
}
