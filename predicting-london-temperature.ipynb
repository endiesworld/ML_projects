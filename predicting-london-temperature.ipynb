{
 "cells": [
  {
   "cell_type": "code",
   "execution_count": 1,
   "id": "c34e41af",
   "metadata": {},
   "outputs": [
    {
     "name": "stderr",
     "output_type": "stream",
     "text": [
      "Matplotlib is building the font cache; this may take a moment.\n"
     ]
    }
   ],
   "source": [
    "import pandas as pd\n",
    "import numpy as np\n",
    "import mlflow\n",
    "import mlflow.sklearn\n",
    "import matplotlib.pyplot as plt\n",
    "import seaborn as sns\n",
    "from sklearn.model_selection import train_test_split\n",
    "from sklearn.metrics import mean_squared_error\n",
    "from sklearn.impute import SimpleImputer\n",
    "from sklearn.preprocessing import StandardScaler\n",
    "from sklearn.linear_model import LinearRegression\n",
    "from sklearn.tree import DecisionTreeRegressor\n",
    "from sklearn.ensemble import RandomForestRegressor"
   ]
  },
  {
   "cell_type": "markdown",
   "id": "1f627d04",
   "metadata": {},
   "source": [
    "## Creat and connect to an MLFlow Client"
   ]
  },
  {
   "cell_type": "code",
   "execution_count": 2,
   "id": "6549da5f",
   "metadata": {},
   "outputs": [],
   "source": [
    "client = mlflow.MlflowClient(tracking_uri=\"http://localhost:8080\")"
   ]
  },
  {
   "cell_type": "markdown",
   "id": "f6b1b75c",
   "metadata": {},
   "source": [
    "## Search Experiments with the MLflow Client \n",
    "Let's take a look at the Default Experiment that is created for us.\n",
    "\n",
    "This safe 'fallback' experiment will store Runs that we create if we don't specify a \n",
    "new experiment. "
   ]
  },
  {
   "cell_type": "code",
   "execution_count": 3,
   "id": "0d4cb47c",
   "metadata": {},
   "outputs": [
    {
     "name": "stdout",
     "output_type": "stream",
     "text": [
      "[<Experiment: artifact_location='file:///c:/Users/endie/Documents/codes/Data_work/ML-AI/ML_projects/mlruns/944059796455378175', creation_time=1752217610862, experiment_id='944059796455378175', last_update_time=1752217610862, lifecycle_stage='active', name='Unicorn Model', tags={'version': '1.0'}>, <Experiment: artifact_location='mlflow-artifacts:/0', creation_time=1752215616171, experiment_id='0', last_update_time=1752215616171, lifecycle_stage='active', name='Default', tags={}>]\n"
     ]
    }
   ],
   "source": [
    "# Search experiments without providing query terms behaves effectively as a 'list' action\n",
    "\n",
    "all_experiments = client.search_experiments()\n",
    "\n",
    "print(all_experiments)"
   ]
  },
  {
   "cell_type": "markdown",
   "id": "cef67de3",
   "metadata": {},
   "source": [
    "## Creat a new experiment for the Predicting London Mean Temperature Project\n",
    "\n",
    "- create a new MLflow Experiment\n",
    "- apply metadata in the form of Experiment Tags\n",
    "\n",
    "## Project Objective\n",
    "Run a lot of experiments to determine what the best approach is to predict London weather. In this project, you will run experiments for different regression models predicting the mean temperature, using a combination of"
   ]
  },
  {
   "cell_type": "code",
   "execution_count": 6,
   "id": "aa4ae1a1",
   "metadata": {},
   "outputs": [],
   "source": [
    "from datetime import datetime\n",
    "\n",
    "experiment_description = (\n",
    "    \"This is an experiment to predict the mean temperature in London using various regression models. \"\n",
    "    \"This experiment will explore different feature sets, model configurations, and evaluation metrics to find the best approach for accurate temperature prediction.\"\n",
    ")\n",
    "\n",
    "experiment_tags = {\n",
    "    \"project_name\": \"London-mean-temperature-prediction\",\n",
    "    \"project_objective\": \"Run experiments to determine the best regression model for predicting London mean temperature.\",\n",
    "    \"mlflow-note-author\": \"Endie\",\n",
    "    \"mlflow-note-date\": datetime.now().strftime(\"%Y-%m-%d %H:%M:%S\"),\n",
    "    \"mlflow.note.content\": experiment_description,\n",
    "}\n",
    "\n",
    "london_mean_temp = client.create_experiment(name=\"mean_temp_model\", tags=experiment_tags)"
   ]
  },
  {
   "cell_type": "code",
   "execution_count": 18,
   "id": "1a17f1eb",
   "metadata": {},
   "outputs": [
    {
     "name": "stdout",
     "output_type": "stream",
     "text": [
      "Experiment created with ID: 212837754345050595\n"
     ]
    }
   ],
   "source": [
    "print(f\"Experiment created with ID: {london_mean_temp}\")"
   ]
  },
  {
   "cell_type": "code",
   "execution_count": 7,
   "id": "86f27554",
   "metadata": {},
   "outputs": [
    {
     "name": "stdout",
     "output_type": "stream",
     "text": [
      "<Experiment: artifact_location='mlflow-artifacts:/212837754345050595', creation_time=1753326353735, experiment_id='212837754345050595', last_update_time=1753326353735, lifecycle_stage='active', name='mean_temp_model', tags={'mlflow-note-author': 'Endie',\n",
      " 'mlflow-note-date': '2025-07-23 23:05:53',\n",
      " 'mlflow.note.content': 'This is an experiment to predict the mean temperature '\n",
      "                        'in London using various regression models. This '\n",
      "                        'experiment will explore different feature sets, model '\n",
      "                        'configurations, and evaluation metrics to find the '\n",
      "                        'best approach for accurate temperature prediction.',\n",
      " 'project_name': 'London-mean-temperature-prediction',\n",
      " 'project_objective': 'Run experiments to determine the best regression model '\n",
      "                      'for predicting London mean temperature.'}>\n"
     ]
    }
   ],
   "source": [
    "# Use search_experiments() to search on the project_name tag key\n",
    "from pprint import pprint\n",
    "\n",
    "weather_experiment = client.search_experiments(\n",
    "    filter_string=\"tags.`project_name` = 'London-mean-temperature-prediction'\"\n",
    ")\n",
    "\n",
    "pprint(weather_experiment[0])"
   ]
  },
  {
   "cell_type": "markdown",
   "id": "a4c65134",
   "metadata": {},
   "source": [
    "### Running our first model training\n",
    "\n",
    "In this section, we'll:\n",
    "\n",
    "* import the London weather data set that is relevant to a mean temperature forecasting task\n",
    "* start an MLflow run\n",
    "* log metrics, parameters, and tags to the run\n",
    "* save the model to the run\n",
    "* register the model during model logging"
   ]
  },
  {
   "cell_type": "code",
   "execution_count": 9,
   "id": "0f1273e0",
   "metadata": {},
   "outputs": [
    {
     "data": {
      "text/html": [
       "<div>\n",
       "<style scoped>\n",
       "    .dataframe tbody tr th:only-of-type {\n",
       "        vertical-align: middle;\n",
       "    }\n",
       "\n",
       "    .dataframe tbody tr th {\n",
       "        vertical-align: top;\n",
       "    }\n",
       "\n",
       "    .dataframe thead th {\n",
       "        text-align: right;\n",
       "    }\n",
       "</style>\n",
       "<table border=\"1\" class=\"dataframe\">\n",
       "  <thead>\n",
       "    <tr style=\"text-align: right;\">\n",
       "      <th></th>\n",
       "      <th>date</th>\n",
       "      <th>cloud_cover</th>\n",
       "      <th>sunshine</th>\n",
       "      <th>global_radiation</th>\n",
       "      <th>max_temp</th>\n",
       "      <th>mean_temp</th>\n",
       "      <th>min_temp</th>\n",
       "      <th>precipitation</th>\n",
       "      <th>pressure</th>\n",
       "      <th>snow_depth</th>\n",
       "    </tr>\n",
       "  </thead>\n",
       "  <tbody>\n",
       "    <tr>\n",
       "      <th>count</th>\n",
       "      <td>1.534100e+04</td>\n",
       "      <td>15322.000000</td>\n",
       "      <td>15341.000000</td>\n",
       "      <td>15322.000000</td>\n",
       "      <td>15335.000000</td>\n",
       "      <td>15305.000000</td>\n",
       "      <td>15339.000000</td>\n",
       "      <td>15335.000000</td>\n",
       "      <td>15337.000000</td>\n",
       "      <td>13900.000000</td>\n",
       "    </tr>\n",
       "    <tr>\n",
       "      <th>mean</th>\n",
       "      <td>1.999567e+07</td>\n",
       "      <td>5.268242</td>\n",
       "      <td>4.350238</td>\n",
       "      <td>118.756951</td>\n",
       "      <td>15.388777</td>\n",
       "      <td>11.475511</td>\n",
       "      <td>7.559867</td>\n",
       "      <td>1.668634</td>\n",
       "      <td>101536.605594</td>\n",
       "      <td>0.037986</td>\n",
       "    </tr>\n",
       "    <tr>\n",
       "      <th>std</th>\n",
       "      <td>1.212176e+05</td>\n",
       "      <td>2.070072</td>\n",
       "      <td>4.028339</td>\n",
       "      <td>88.898272</td>\n",
       "      <td>6.554754</td>\n",
       "      <td>5.729709</td>\n",
       "      <td>5.326756</td>\n",
       "      <td>3.738540</td>\n",
       "      <td>1049.722604</td>\n",
       "      <td>0.545633</td>\n",
       "    </tr>\n",
       "    <tr>\n",
       "      <th>min</th>\n",
       "      <td>1.979010e+07</td>\n",
       "      <td>0.000000</td>\n",
       "      <td>0.000000</td>\n",
       "      <td>8.000000</td>\n",
       "      <td>-6.200000</td>\n",
       "      <td>-7.600000</td>\n",
       "      <td>-11.800000</td>\n",
       "      <td>0.000000</td>\n",
       "      <td>95960.000000</td>\n",
       "      <td>0.000000</td>\n",
       "    </tr>\n",
       "    <tr>\n",
       "      <th>25%</th>\n",
       "      <td>1.989070e+07</td>\n",
       "      <td>4.000000</td>\n",
       "      <td>0.500000</td>\n",
       "      <td>41.000000</td>\n",
       "      <td>10.500000</td>\n",
       "      <td>7.000000</td>\n",
       "      <td>3.500000</td>\n",
       "      <td>0.000000</td>\n",
       "      <td>100920.000000</td>\n",
       "      <td>0.000000</td>\n",
       "    </tr>\n",
       "    <tr>\n",
       "      <th>50%</th>\n",
       "      <td>2.000010e+07</td>\n",
       "      <td>6.000000</td>\n",
       "      <td>3.500000</td>\n",
       "      <td>95.000000</td>\n",
       "      <td>15.000000</td>\n",
       "      <td>11.400000</td>\n",
       "      <td>7.800000</td>\n",
       "      <td>0.000000</td>\n",
       "      <td>101620.000000</td>\n",
       "      <td>0.000000</td>\n",
       "    </tr>\n",
       "    <tr>\n",
       "      <th>75%</th>\n",
       "      <td>2.010070e+07</td>\n",
       "      <td>7.000000</td>\n",
       "      <td>7.200000</td>\n",
       "      <td>186.000000</td>\n",
       "      <td>20.300000</td>\n",
       "      <td>16.000000</td>\n",
       "      <td>11.800000</td>\n",
       "      <td>1.600000</td>\n",
       "      <td>102240.000000</td>\n",
       "      <td>0.000000</td>\n",
       "    </tr>\n",
       "    <tr>\n",
       "      <th>max</th>\n",
       "      <td>2.020123e+07</td>\n",
       "      <td>9.000000</td>\n",
       "      <td>16.000000</td>\n",
       "      <td>402.000000</td>\n",
       "      <td>37.900000</td>\n",
       "      <td>29.000000</td>\n",
       "      <td>22.300000</td>\n",
       "      <td>61.800000</td>\n",
       "      <td>104820.000000</td>\n",
       "      <td>22.000000</td>\n",
       "    </tr>\n",
       "  </tbody>\n",
       "</table>\n",
       "</div>"
      ],
      "text/plain": [
       "               date   cloud_cover      sunshine  global_radiation  \\\n",
       "count  1.534100e+04  15322.000000  15341.000000      15322.000000   \n",
       "mean   1.999567e+07      5.268242      4.350238        118.756951   \n",
       "std    1.212176e+05      2.070072      4.028339         88.898272   \n",
       "min    1.979010e+07      0.000000      0.000000          8.000000   \n",
       "25%    1.989070e+07      4.000000      0.500000         41.000000   \n",
       "50%    2.000010e+07      6.000000      3.500000         95.000000   \n",
       "75%    2.010070e+07      7.000000      7.200000        186.000000   \n",
       "max    2.020123e+07      9.000000     16.000000        402.000000   \n",
       "\n",
       "           max_temp     mean_temp      min_temp  precipitation       pressure  \\\n",
       "count  15335.000000  15305.000000  15339.000000   15335.000000   15337.000000   \n",
       "mean      15.388777     11.475511      7.559867       1.668634  101536.605594   \n",
       "std        6.554754      5.729709      5.326756       3.738540    1049.722604   \n",
       "min       -6.200000     -7.600000    -11.800000       0.000000   95960.000000   \n",
       "25%       10.500000      7.000000      3.500000       0.000000  100920.000000   \n",
       "50%       15.000000     11.400000      7.800000       0.000000  101620.000000   \n",
       "75%       20.300000     16.000000     11.800000       1.600000  102240.000000   \n",
       "max       37.900000     29.000000     22.300000      61.800000  104820.000000   \n",
       "\n",
       "         snow_depth  \n",
       "count  13900.000000  \n",
       "mean       0.037986  \n",
       "std        0.545633  \n",
       "min        0.000000  \n",
       "25%        0.000000  \n",
       "50%        0.000000  \n",
       "75%        0.000000  \n",
       "max       22.000000  "
      ]
     },
     "execution_count": 9,
     "metadata": {},
     "output_type": "execute_result"
    }
   ],
   "source": [
    "london_temp_df = pd.read_csv(\"london_weather.csv\")\n",
    "london_temp_df.describe()"
   ]
  },
  {
   "cell_type": "code",
   "execution_count": 10,
   "id": "4d7b3c29",
   "metadata": {},
   "outputs": [
    {
     "data": {
      "text/html": [
       "<div>\n",
       "<style scoped>\n",
       "    .dataframe tbody tr th:only-of-type {\n",
       "        vertical-align: middle;\n",
       "    }\n",
       "\n",
       "    .dataframe tbody tr th {\n",
       "        vertical-align: top;\n",
       "    }\n",
       "\n",
       "    .dataframe thead th {\n",
       "        text-align: right;\n",
       "    }\n",
       "</style>\n",
       "<table border=\"1\" class=\"dataframe\">\n",
       "  <thead>\n",
       "    <tr style=\"text-align: right;\">\n",
       "      <th></th>\n",
       "      <th>date</th>\n",
       "      <th>cloud_cover</th>\n",
       "      <th>sunshine</th>\n",
       "      <th>global_radiation</th>\n",
       "      <th>max_temp</th>\n",
       "      <th>mean_temp</th>\n",
       "      <th>min_temp</th>\n",
       "      <th>precipitation</th>\n",
       "      <th>pressure</th>\n",
       "      <th>snow_depth</th>\n",
       "    </tr>\n",
       "  </thead>\n",
       "  <tbody>\n",
       "    <tr>\n",
       "      <th>0</th>\n",
       "      <td>19790101</td>\n",
       "      <td>2.0</td>\n",
       "      <td>7.0</td>\n",
       "      <td>52.0</td>\n",
       "      <td>2.3</td>\n",
       "      <td>-4.1</td>\n",
       "      <td>-7.5</td>\n",
       "      <td>0.4</td>\n",
       "      <td>101900.0</td>\n",
       "      <td>9.0</td>\n",
       "    </tr>\n",
       "    <tr>\n",
       "      <th>1</th>\n",
       "      <td>19790102</td>\n",
       "      <td>6.0</td>\n",
       "      <td>1.7</td>\n",
       "      <td>27.0</td>\n",
       "      <td>1.6</td>\n",
       "      <td>-2.6</td>\n",
       "      <td>-7.5</td>\n",
       "      <td>0.0</td>\n",
       "      <td>102530.0</td>\n",
       "      <td>8.0</td>\n",
       "    </tr>\n",
       "    <tr>\n",
       "      <th>2</th>\n",
       "      <td>19790103</td>\n",
       "      <td>5.0</td>\n",
       "      <td>0.0</td>\n",
       "      <td>13.0</td>\n",
       "      <td>1.3</td>\n",
       "      <td>-2.8</td>\n",
       "      <td>-7.2</td>\n",
       "      <td>0.0</td>\n",
       "      <td>102050.0</td>\n",
       "      <td>4.0</td>\n",
       "    </tr>\n",
       "    <tr>\n",
       "      <th>3</th>\n",
       "      <td>19790104</td>\n",
       "      <td>8.0</td>\n",
       "      <td>0.0</td>\n",
       "      <td>13.0</td>\n",
       "      <td>-0.3</td>\n",
       "      <td>-2.6</td>\n",
       "      <td>-6.5</td>\n",
       "      <td>0.0</td>\n",
       "      <td>100840.0</td>\n",
       "      <td>2.0</td>\n",
       "    </tr>\n",
       "    <tr>\n",
       "      <th>4</th>\n",
       "      <td>19790105</td>\n",
       "      <td>6.0</td>\n",
       "      <td>2.0</td>\n",
       "      <td>29.0</td>\n",
       "      <td>5.6</td>\n",
       "      <td>-0.8</td>\n",
       "      <td>-1.4</td>\n",
       "      <td>0.0</td>\n",
       "      <td>102250.0</td>\n",
       "      <td>1.0</td>\n",
       "    </tr>\n",
       "    <tr>\n",
       "      <th>5</th>\n",
       "      <td>19790106</td>\n",
       "      <td>5.0</td>\n",
       "      <td>3.8</td>\n",
       "      <td>39.0</td>\n",
       "      <td>8.3</td>\n",
       "      <td>-0.5</td>\n",
       "      <td>-6.6</td>\n",
       "      <td>0.7</td>\n",
       "      <td>102780.0</td>\n",
       "      <td>1.0</td>\n",
       "    </tr>\n",
       "    <tr>\n",
       "      <th>6</th>\n",
       "      <td>19790107</td>\n",
       "      <td>8.0</td>\n",
       "      <td>0.0</td>\n",
       "      <td>13.0</td>\n",
       "      <td>8.5</td>\n",
       "      <td>1.5</td>\n",
       "      <td>-5.3</td>\n",
       "      <td>5.2</td>\n",
       "      <td>102520.0</td>\n",
       "      <td>0.0</td>\n",
       "    </tr>\n",
       "    <tr>\n",
       "      <th>7</th>\n",
       "      <td>19790108</td>\n",
       "      <td>8.0</td>\n",
       "      <td>0.1</td>\n",
       "      <td>15.0</td>\n",
       "      <td>5.8</td>\n",
       "      <td>6.9</td>\n",
       "      <td>5.3</td>\n",
       "      <td>0.8</td>\n",
       "      <td>101870.0</td>\n",
       "      <td>0.0</td>\n",
       "    </tr>\n",
       "    <tr>\n",
       "      <th>8</th>\n",
       "      <td>19790109</td>\n",
       "      <td>4.0</td>\n",
       "      <td>5.8</td>\n",
       "      <td>50.0</td>\n",
       "      <td>5.2</td>\n",
       "      <td>3.7</td>\n",
       "      <td>1.6</td>\n",
       "      <td>7.2</td>\n",
       "      <td>101170.0</td>\n",
       "      <td>0.0</td>\n",
       "    </tr>\n",
       "    <tr>\n",
       "      <th>9</th>\n",
       "      <td>19790110</td>\n",
       "      <td>7.0</td>\n",
       "      <td>1.9</td>\n",
       "      <td>30.0</td>\n",
       "      <td>4.9</td>\n",
       "      <td>3.3</td>\n",
       "      <td>1.4</td>\n",
       "      <td>2.1</td>\n",
       "      <td>98700.0</td>\n",
       "      <td>0.0</td>\n",
       "    </tr>\n",
       "  </tbody>\n",
       "</table>\n",
       "</div>"
      ],
      "text/plain": [
       "       date  cloud_cover  sunshine  global_radiation  max_temp  mean_temp  \\\n",
       "0  19790101          2.0       7.0              52.0       2.3       -4.1   \n",
       "1  19790102          6.0       1.7              27.0       1.6       -2.6   \n",
       "2  19790103          5.0       0.0              13.0       1.3       -2.8   \n",
       "3  19790104          8.0       0.0              13.0      -0.3       -2.6   \n",
       "4  19790105          6.0       2.0              29.0       5.6       -0.8   \n",
       "5  19790106          5.0       3.8              39.0       8.3       -0.5   \n",
       "6  19790107          8.0       0.0              13.0       8.5        1.5   \n",
       "7  19790108          8.0       0.1              15.0       5.8        6.9   \n",
       "8  19790109          4.0       5.8              50.0       5.2        3.7   \n",
       "9  19790110          7.0       1.9              30.0       4.9        3.3   \n",
       "\n",
       "   min_temp  precipitation  pressure  snow_depth  \n",
       "0      -7.5            0.4  101900.0         9.0  \n",
       "1      -7.5            0.0  102530.0         8.0  \n",
       "2      -7.2            0.0  102050.0         4.0  \n",
       "3      -6.5            0.0  100840.0         2.0  \n",
       "4      -1.4            0.0  102250.0         1.0  \n",
       "5      -6.6            0.7  102780.0         1.0  \n",
       "6      -5.3            5.2  102520.0         0.0  \n",
       "7       5.3            0.8  101870.0         0.0  \n",
       "8       1.6            7.2  101170.0         0.0  \n",
       "9       1.4            2.1   98700.0         0.0  "
      ]
     },
     "execution_count": 10,
     "metadata": {},
     "output_type": "execute_result"
    }
   ],
   "source": [
    "london_temp_df.head(10)"
   ]
  },
  {
   "cell_type": "code",
   "execution_count": 11,
   "id": "3f34e418",
   "metadata": {},
   "outputs": [
    {
     "data": {
      "text/html": [
       "<div>\n",
       "<style scoped>\n",
       "    .dataframe tbody tr th:only-of-type {\n",
       "        vertical-align: middle;\n",
       "    }\n",
       "\n",
       "    .dataframe tbody tr th {\n",
       "        vertical-align: top;\n",
       "    }\n",
       "\n",
       "    .dataframe thead th {\n",
       "        text-align: right;\n",
       "    }\n",
       "</style>\n",
       "<table border=\"1\" class=\"dataframe\">\n",
       "  <thead>\n",
       "    <tr style=\"text-align: right;\">\n",
       "      <th></th>\n",
       "      <th>cloud_cover</th>\n",
       "      <th>sunshine</th>\n",
       "      <th>global_radiation</th>\n",
       "      <th>max_temp</th>\n",
       "      <th>mean_temp</th>\n",
       "      <th>min_temp</th>\n",
       "      <th>precipitation</th>\n",
       "      <th>pressure</th>\n",
       "      <th>snow_depth</th>\n",
       "      <th>month</th>\n",
       "      <th>dayofyear</th>\n",
       "    </tr>\n",
       "  </thead>\n",
       "  <tbody>\n",
       "    <tr>\n",
       "      <th>0</th>\n",
       "      <td>2.0</td>\n",
       "      <td>7.0</td>\n",
       "      <td>52.0</td>\n",
       "      <td>2.3</td>\n",
       "      <td>-4.1</td>\n",
       "      <td>-7.5</td>\n",
       "      <td>0.4</td>\n",
       "      <td>101900.0</td>\n",
       "      <td>9.0</td>\n",
       "      <td>1</td>\n",
       "      <td>1</td>\n",
       "    </tr>\n",
       "    <tr>\n",
       "      <th>1</th>\n",
       "      <td>6.0</td>\n",
       "      <td>1.7</td>\n",
       "      <td>27.0</td>\n",
       "      <td>1.6</td>\n",
       "      <td>-2.6</td>\n",
       "      <td>-7.5</td>\n",
       "      <td>0.0</td>\n",
       "      <td>102530.0</td>\n",
       "      <td>8.0</td>\n",
       "      <td>1</td>\n",
       "      <td>2</td>\n",
       "    </tr>\n",
       "    <tr>\n",
       "      <th>2</th>\n",
       "      <td>5.0</td>\n",
       "      <td>0.0</td>\n",
       "      <td>13.0</td>\n",
       "      <td>1.3</td>\n",
       "      <td>-2.8</td>\n",
       "      <td>-7.2</td>\n",
       "      <td>0.0</td>\n",
       "      <td>102050.0</td>\n",
       "      <td>4.0</td>\n",
       "      <td>1</td>\n",
       "      <td>3</td>\n",
       "    </tr>\n",
       "    <tr>\n",
       "      <th>3</th>\n",
       "      <td>8.0</td>\n",
       "      <td>0.0</td>\n",
       "      <td>13.0</td>\n",
       "      <td>-0.3</td>\n",
       "      <td>-2.6</td>\n",
       "      <td>-6.5</td>\n",
       "      <td>0.0</td>\n",
       "      <td>100840.0</td>\n",
       "      <td>2.0</td>\n",
       "      <td>1</td>\n",
       "      <td>4</td>\n",
       "    </tr>\n",
       "    <tr>\n",
       "      <th>4</th>\n",
       "      <td>6.0</td>\n",
       "      <td>2.0</td>\n",
       "      <td>29.0</td>\n",
       "      <td>5.6</td>\n",
       "      <td>-0.8</td>\n",
       "      <td>-1.4</td>\n",
       "      <td>0.0</td>\n",
       "      <td>102250.0</td>\n",
       "      <td>1.0</td>\n",
       "      <td>1</td>\n",
       "      <td>5</td>\n",
       "    </tr>\n",
       "    <tr>\n",
       "      <th>5</th>\n",
       "      <td>5.0</td>\n",
       "      <td>3.8</td>\n",
       "      <td>39.0</td>\n",
       "      <td>8.3</td>\n",
       "      <td>-0.5</td>\n",
       "      <td>-6.6</td>\n",
       "      <td>0.7</td>\n",
       "      <td>102780.0</td>\n",
       "      <td>1.0</td>\n",
       "      <td>1</td>\n",
       "      <td>6</td>\n",
       "    </tr>\n",
       "    <tr>\n",
       "      <th>6</th>\n",
       "      <td>8.0</td>\n",
       "      <td>0.0</td>\n",
       "      <td>13.0</td>\n",
       "      <td>8.5</td>\n",
       "      <td>1.5</td>\n",
       "      <td>-5.3</td>\n",
       "      <td>5.2</td>\n",
       "      <td>102520.0</td>\n",
       "      <td>0.0</td>\n",
       "      <td>1</td>\n",
       "      <td>7</td>\n",
       "    </tr>\n",
       "    <tr>\n",
       "      <th>7</th>\n",
       "      <td>8.0</td>\n",
       "      <td>0.1</td>\n",
       "      <td>15.0</td>\n",
       "      <td>5.8</td>\n",
       "      <td>6.9</td>\n",
       "      <td>5.3</td>\n",
       "      <td>0.8</td>\n",
       "      <td>101870.0</td>\n",
       "      <td>0.0</td>\n",
       "      <td>1</td>\n",
       "      <td>8</td>\n",
       "    </tr>\n",
       "    <tr>\n",
       "      <th>8</th>\n",
       "      <td>4.0</td>\n",
       "      <td>5.8</td>\n",
       "      <td>50.0</td>\n",
       "      <td>5.2</td>\n",
       "      <td>3.7</td>\n",
       "      <td>1.6</td>\n",
       "      <td>7.2</td>\n",
       "      <td>101170.0</td>\n",
       "      <td>0.0</td>\n",
       "      <td>1</td>\n",
       "      <td>9</td>\n",
       "    </tr>\n",
       "    <tr>\n",
       "      <th>9</th>\n",
       "      <td>7.0</td>\n",
       "      <td>1.9</td>\n",
       "      <td>30.0</td>\n",
       "      <td>4.9</td>\n",
       "      <td>3.3</td>\n",
       "      <td>1.4</td>\n",
       "      <td>2.1</td>\n",
       "      <td>98700.0</td>\n",
       "      <td>0.0</td>\n",
       "      <td>1</td>\n",
       "      <td>10</td>\n",
       "    </tr>\n",
       "  </tbody>\n",
       "</table>\n",
       "</div>"
      ],
      "text/plain": [
       "   cloud_cover  sunshine  global_radiation  max_temp  mean_temp  min_temp  \\\n",
       "0          2.0       7.0              52.0       2.3       -4.1      -7.5   \n",
       "1          6.0       1.7              27.0       1.6       -2.6      -7.5   \n",
       "2          5.0       0.0              13.0       1.3       -2.8      -7.2   \n",
       "3          8.0       0.0              13.0      -0.3       -2.6      -6.5   \n",
       "4          6.0       2.0              29.0       5.6       -0.8      -1.4   \n",
       "5          5.0       3.8              39.0       8.3       -0.5      -6.6   \n",
       "6          8.0       0.0              13.0       8.5        1.5      -5.3   \n",
       "7          8.0       0.1              15.0       5.8        6.9       5.3   \n",
       "8          4.0       5.8              50.0       5.2        3.7       1.6   \n",
       "9          7.0       1.9              30.0       4.9        3.3       1.4   \n",
       "\n",
       "   precipitation  pressure  snow_depth  month  dayofyear  \n",
       "0            0.4  101900.0         9.0      1          1  \n",
       "1            0.0  102530.0         8.0      1          2  \n",
       "2            0.0  102050.0         4.0      1          3  \n",
       "3            0.0  100840.0         2.0      1          4  \n",
       "4            0.0  102250.0         1.0      1          5  \n",
       "5            0.7  102780.0         1.0      1          6  \n",
       "6            5.2  102520.0         0.0      1          7  \n",
       "7            0.8  101870.0         0.0      1          8  \n",
       "8            7.2  101170.0         0.0      1          9  \n",
       "9            2.1   98700.0         0.0      1         10  "
      ]
     },
     "execution_count": 11,
     "metadata": {},
     "output_type": "execute_result"
    }
   ],
   "source": [
    "# Convert date to datetime\n",
    "london_temp_df['date'] = pd.to_datetime(london_temp_df['date'], format='%Y%m%d')\n",
    "\n",
    "# Extract temporal features\n",
    "london_temp_df['month'] = london_temp_df['date'].dt.month\n",
    "london_temp_df['dayofyear'] = london_temp_df['date'].dt.dayofyear\n",
    "# london_temp_df['weekday'] = london_temp_df['date'].dt.weekday  # Optional\n",
    "\n",
    "# Drop original date column if not using it directly\n",
    "london_temp_df.drop(columns=['date'], inplace=True)\n",
    "\n",
    "london_temp_df.head(10)\n"
   ]
  },
  {
   "cell_type": "code",
   "execution_count": 12,
   "id": "2ca19991",
   "metadata": {},
   "outputs": [
    {
     "name": "stdout",
     "output_type": "stream",
     "text": [
      "<class 'pandas.core.frame.DataFrame'>\n",
      "RangeIndex: 15341 entries, 0 to 15340\n",
      "Data columns (total 11 columns):\n",
      " #   Column            Non-Null Count  Dtype  \n",
      "---  ------            --------------  -----  \n",
      " 0   cloud_cover       15322 non-null  float64\n",
      " 1   sunshine          15341 non-null  float64\n",
      " 2   global_radiation  15322 non-null  float64\n",
      " 3   max_temp          15335 non-null  float64\n",
      " 4   mean_temp         15305 non-null  float64\n",
      " 5   min_temp          15339 non-null  float64\n",
      " 6   precipitation     15335 non-null  float64\n",
      " 7   pressure          15337 non-null  float64\n",
      " 8   snow_depth        13900 non-null  float64\n",
      " 9   month             15341 non-null  int32  \n",
      " 10  dayofyear         15341 non-null  int32  \n",
      "dtypes: float64(9), int32(2)\n",
      "memory usage: 1.2 MB\n"
     ]
    }
   ],
   "source": [
    "london_temp_df.info()"
   ]
  },
  {
   "cell_type": "code",
   "execution_count": 13,
   "id": "37381bd8",
   "metadata": {},
   "outputs": [
    {
     "data": {
      "text/plain": [
       "cloud_cover           19\n",
       "sunshine               0\n",
       "global_radiation      19\n",
       "max_temp               6\n",
       "mean_temp             36\n",
       "min_temp               2\n",
       "precipitation          6\n",
       "pressure               4\n",
       "snow_depth          1441\n",
       "month                  0\n",
       "dayofyear              0\n",
       "dtype: int64"
      ]
     },
     "execution_count": 13,
     "metadata": {},
     "output_type": "execute_result"
    }
   ],
   "source": [
    "#Check for missing values\n",
    "london_temp_df.isnull().sum()\n"
   ]
  },
  {
   "cell_type": "markdown",
   "id": "0745ac65",
   "metadata": {},
   "source": [
    "## Drop rows where target is missing"
   ]
  },
  {
   "cell_type": "code",
   "execution_count": 14,
   "id": "4de9cc7a",
   "metadata": {},
   "outputs": [
    {
     "data": {
      "text/plain": [
       "cloud_cover           19\n",
       "sunshine               0\n",
       "global_radiation      19\n",
       "max_temp               0\n",
       "mean_temp              0\n",
       "min_temp               0\n",
       "precipitation          2\n",
       "pressure               4\n",
       "snow_depth          1424\n",
       "month                  0\n",
       "dayofyear              0\n",
       "dtype: int64"
      ]
     },
     "execution_count": 14,
     "metadata": {},
     "output_type": "execute_result"
    }
   ],
   "source": [
    "# Drop rows where target is missing\n",
    "london_temp_df = london_temp_df.dropna(subset=['mean_temp'])\n",
    "\n",
    "# Check for missing values again\n",
    "london_temp_df.isnull().sum()"
   ]
  },
  {
   "cell_type": "markdown",
   "id": "4b3e6677",
   "metadata": {},
   "source": [
    "## How to treat other columns with missing values\n",
    "\n",
    "Seeing that we now only have three columns with missing(cloud_cover, global_radiation, and snow_depth) values less than 10% of the entire dataset, we could decide to treat as:\n",
    "- Drop all rows with missing values\n",
    "- Replace with either median "
   ]
  },
  {
   "cell_type": "markdown",
   "id": "64c5f188",
   "metadata": {},
   "source": [
    "### Drop all rows with missing values"
   ]
  },
  {
   "cell_type": "code",
   "execution_count": 15,
   "id": "4b5653cd",
   "metadata": {},
   "outputs": [
    {
     "data": {
      "text/plain": [
       "cloud_cover         0\n",
       "sunshine            0\n",
       "global_radiation    0\n",
       "max_temp            0\n",
       "mean_temp           0\n",
       "min_temp            0\n",
       "precipitation       0\n",
       "pressure            0\n",
       "snow_depth          0\n",
       "month               0\n",
       "dayofyear           0\n",
       "dtype: int64"
      ]
     },
     "execution_count": 15,
     "metadata": {},
     "output_type": "execute_result"
    }
   ],
   "source": [
    "london_temp_df.dropna(inplace=True)  # Drop rows with missing values\n",
    "\n",
    "london_temp_df.isnull().sum()"
   ]
  },
  {
   "cell_type": "code",
   "execution_count": 16,
   "id": "340a8187",
   "metadata": {},
   "outputs": [
    {
     "name": "stdout",
     "output_type": "stream",
     "text": [
      "<class 'pandas.core.frame.DataFrame'>\n",
      "Index: 13843 entries, 0 to 14974\n",
      "Data columns (total 11 columns):\n",
      " #   Column            Non-Null Count  Dtype  \n",
      "---  ------            --------------  -----  \n",
      " 0   cloud_cover       13843 non-null  float64\n",
      " 1   sunshine          13843 non-null  float64\n",
      " 2   global_radiation  13843 non-null  float64\n",
      " 3   max_temp          13843 non-null  float64\n",
      " 4   mean_temp         13843 non-null  float64\n",
      " 5   min_temp          13843 non-null  float64\n",
      " 6   precipitation     13843 non-null  float64\n",
      " 7   pressure          13843 non-null  float64\n",
      " 8   snow_depth        13843 non-null  float64\n",
      " 9   month             13843 non-null  int32  \n",
      " 10  dayofyear         13843 non-null  int32  \n",
      "dtypes: float64(9), int32(2)\n",
      "memory usage: 1.2 MB\n"
     ]
    }
   ],
   "source": [
    "london_temp_df.info()"
   ]
  },
  {
   "cell_type": "markdown",
   "id": "880f5b8f",
   "metadata": {},
   "source": [
    "## Visualize data Corelation relationship"
   ]
  },
  {
   "cell_type": "code",
   "execution_count": 17,
   "id": "93174494",
   "metadata": {},
   "outputs": [
    {
     "data": {
      "image/png": "[encoded data removed]",
      "text/plain": [
       "<Figure size 1000x600 with 2 Axes>"
      ]
     },
     "metadata": {},
     "output_type": "display_data"
    }
   ],
   "source": [
    "corr_matrix = london_temp_df.corr()\n",
    "plt.figure(figsize=(10, 6))\n",
    "sns.heatmap(corr_matrix[['mean_temp']].sort_values(by='mean_temp', ascending=False), \n",
    "            annot=True, cmap='coolwarm')\n",
    "plt.title(\"Correlation of features with mean_temp\")\n",
    "plt.show()"
   ]
  },
  {
   "cell_type": "markdown",
   "id": "cf73611a",
   "metadata": {},
   "source": [
    "## PRocessing and Splitting Data"
   ]
  },
  {
   "cell_type": "code",
   "execution_count": 19,
   "id": "c35ba732",
   "metadata": {},
   "outputs": [],
   "source": [
    "# Final feature list based on correlation\n",
    "final_features = [\n",
    "    'min_temp', 'max_temp',\n",
    "    'global_radiation', 'sunshine',\n",
    "    'month', 'dayofyear'\n",
    "]\n",
    "\n",
    "def prepare_data(df, target='mean_temp'):\n",
    "    X = df[final_features]\n",
    "    y = df[target]\n",
    "    return train_test_split(X, y, test_size=0.2, shuffle=False)  # time-aware split"
   ]
  },
  {
   "cell_type": "markdown",
   "id": "676adeb9",
   "metadata": {},
   "source": [
    "## Define Train & Log Function"
   ]
  },
  {
   "cell_type": "code",
   "execution_count": 28,
   "id": "657f7857",
   "metadata": {},
   "outputs": [],
   "source": [
    "from sklearn.metrics import root_mean_squared_error\n",
    "from sklearn.pipeline import Pipeline\n",
    "mlflow.set_tracking_uri(\"http://localhost:8080\")\n",
    "def train_and_log_model(model_name, model, X_train, X_test, y_train, y_test, use_scaler=False):\n",
    "    with mlflow.start_run(experiment_id=london_mean_temp, run_name=model_name):\n",
    "        # Conditionally apply scaling\n",
    "        if use_scaler:\n",
    "            pipeline = Pipeline([\n",
    "                ('scaler', StandardScaler()),\n",
    "                ('model', model)\n",
    "            ])\n",
    "        else:\n",
    "            pipeline = Pipeline([\n",
    "                ('model', model)\n",
    "            ])\n",
    "        \n",
    "        pipeline.fit(X_train, y_train)\n",
    "        preds = pipeline.predict(X_test)\n",
    "\n",
    "        # Log model params\n",
    "        mlflow.log_param(\"model_type\", model_name)\n",
    "        mlflow.log_param(\"features\", \",\".join(final_features))\n",
    "        mlflow.log_param(\"scaling\", use_scaler)\n",
    "\n",
    "        # Log metrics\n",
    "        rmse =root_mean_squared_error(y_test, preds)\n",
    "        \n",
    "        mlflow.log_metric(\"rmse\", rmse)\n",
    "        \n",
    "\n",
    "        # Log full pipeline\n",
    "        mlflow.sklearn.log_model(pipeline, \"model\")\n",
    "\n",
    "        print(f\"{model_name} -> RMSE: {rmse:.3f}\")"
   ]
  },
  {
   "cell_type": "markdown",
   "id": "eb5e443a",
   "metadata": {},
   "source": [
    "## Run All Models\n"
   ]
  },
  {
   "cell_type": "code",
   "execution_count": 29,
   "id": "4b6a52c7",
   "metadata": {},
   "outputs": [
    {
     "name": "stderr",
     "output_type": "stream",
     "text": [
      "2025/07/24 01:47:38 WARNING mlflow.models.model: `artifact_path` is deprecated. Please use `name` instead.\n",
      "2025/07/24 01:47:45 WARNING mlflow.models.model: Model logged without a signature and input example. Please set `input_example` parameter when logging the model to auto infer the model signature.\n"
     ]
    },
    {
     "name": "stdout",
     "output_type": "stream",
     "text": [
      "LinearRegression -> RMSE: 0.938\n",
      "🏃 View run LinearRegression at: http://localhost:8080/#/experiments/212837754345050595/runs/672326ea382e48b294e5d6c37ee2eb62\n",
      "🧪 View experiment at: http://localhost:8080/#/experiments/212837754345050595\n"
     ]
    },
    {
     "name": "stderr",
     "output_type": "stream",
     "text": [
      "2025/07/24 01:47:49 WARNING mlflow.models.model: `artifact_path` is deprecated. Please use `name` instead.\n",
      "2025/07/24 01:47:56 WARNING mlflow.models.model: Model logged without a signature and input example. Please set `input_example` parameter when logging the model to auto infer the model signature.\n"
     ]
    },
    {
     "name": "stdout",
     "output_type": "stream",
     "text": [
      "RandomForest -> RMSE: 0.925\n",
      "🏃 View run RandomForest at: http://localhost:8080/#/experiments/212837754345050595/runs/fe65bed1159c46e7ad9443642440debe\n",
      "🧪 View experiment at: http://localhost:8080/#/experiments/212837754345050595\n"
     ]
    },
    {
     "name": "stderr",
     "output_type": "stream",
     "text": [
      "2025/07/24 01:47:57 WARNING mlflow.models.model: `artifact_path` is deprecated. Please use `name` instead.\n",
      "2025/07/24 01:48:05 WARNING mlflow.models.model: Model logged without a signature and input example. Please set `input_example` parameter when logging the model to auto infer the model signature.\n"
     ]
    },
    {
     "name": "stdout",
     "output_type": "stream",
     "text": [
      "DecisionTree -> RMSE: 1.056\n",
      "🏃 View run DecisionTree at: http://localhost:8080/#/experiments/212837754345050595/runs/35d65ff64aad446cb00f671626cd7c17\n",
      "🧪 View experiment at: http://localhost:8080/#/experiments/212837754345050595\n"
     ]
    }
   ],
   "source": [
    "# Preprocess\n",
    "X_train, X_test, y_train, y_test = prepare_data(london_temp_df.copy())\n",
    "\n",
    "# Run experiments\n",
    "train_and_log_model(\"LinearRegression\", LinearRegression(), X_train, X_test, y_train, y_test, use_scaler=True)\n",
    "train_and_log_model(\"RandomForest\", RandomForestRegressor(n_estimators=100, max_depth=10), X_train, X_test, y_train, y_test)\n",
    "train_and_log_model(\"DecisionTree\", DecisionTreeRegressor(max_depth=10), X_train, X_test, y_train, y_test)\n"
   ]
  },
  {
   "cell_type": "markdown",
   "id": "7f97a8b0",
   "metadata": {},
   "source": [
    "## Set MLflow Goal\n",
    "- RMSE ≤ 3\n",
    "\n",
    "- All runs must log:\n",
    "\n",
    "    + \"rmse\" as a named metric\n",
    "\n",
    "    + Model type and hyperparameters\n",
    "\n",
    "    + Feature set and scaling\n",
    "\n",
    "## After All Runs — Retrieve Best Results"
   ]
  },
  {
   "cell_type": "code",
   "execution_count": 30,
   "id": "72dc12d1",
   "metadata": {},
   "outputs": [
    {
     "name": "stdout",
     "output_type": "stream",
     "text": [
      "Filtered experiment results (RMSE ≤ 3):\n",
      "                             run_id        model_type      rmse    r2 scaling  \\\n",
      "0  fe65bed1159c46e7ad9443642440debe      RandomForest  0.924784  None   False   \n",
      "1  672326ea382e48b294e5d6c37ee2eb62  LinearRegression  0.937767  None    True   \n",
      "2  e5e6110ad13143a79782503e6f8c341b  LinearRegression  0.937767  None    True   \n",
      "3  35d65ff64aad446cb00f671626cd7c17      DecisionTree  1.055668  None   False   \n",
      "\n",
      "                                            features  \n",
      "0  min_temp,max_temp,global_radiation,sunshine,mo...  \n",
      "1  min_temp,max_temp,global_radiation,sunshine,mo...  \n",
      "2  min_temp,max_temp,global_radiation,sunshine,mo...  \n",
      "3  min_temp,max_temp,global_radiation,sunshine,mo...  \n"
     ]
    }
   ],
   "source": [
    "\n",
    "runs = client.search_runs(\n",
    "    experiment_ids=[london_mean_temp],\n",
    "    filter_string=\"metrics.rmse <= 3\",\n",
    "    order_by=[\"metrics.rmse ASC\"]\n",
    ")\n",
    "\n",
    "# Store in experiment_results variable\n",
    "experiment_results = pd.DataFrame([{\n",
    "    \"run_id\": run.info.run_id,\n",
    "    \"model_type\": run.data.params.get(\"model_type\"),\n",
    "    \"rmse\": run.data.metrics.get(\"rmse\"),\n",
    "    \"r2\": run.data.metrics.get(\"r2_score\"),\n",
    "    \"scaling\": run.data.params.get(\"scaling\"),\n",
    "    \"features\": run.data.params.get(\"features\")\n",
    "} for run in runs])\n",
    "\n",
    "print(\"Filtered experiment results (RMSE ≤ 3):\")\n",
    "print(experiment_results)"
   ]
  },
  {
   "cell_type": "code",
   "execution_count": null,
   "id": "6caede90",
   "metadata": {},
   "outputs": [],
   "source": []
  }
 ],
 "metadata": {
  "kernelspec": {
   "display_name": "venv",
   "language": "python",
   "name": "python3"
  },
  "language_info": {
   "codemirror_mode": {
    "name": "ipython",
    "version": 3
   },
   "file_extension": ".py",
   "mimetype": "text/x-python",
   "name": "python",
   "nbconvert_exporter": "python",
   "pygments_lexer": "ipython3",
   "version": "3.11.0"
  }
 },
 "nbformat": 4,
 "nbformat_minor": 5
}
