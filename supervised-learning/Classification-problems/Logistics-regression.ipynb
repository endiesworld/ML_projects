{
 "cells": [
  {
   "cell_type": "markdown",
   "id": "5356c857-5138-4115-aee1-6a999bc640fe",
   "metadata": {},
   "source": [
    "## Logistic regression for binary classification\n",
    "+ Logistic regression is used for classification problems.\n",
    "+ Logistic regression outputs probabilities\n",
    "+ If the probability, p>0.5:\n",
    "    - The data is labeled 1\n",
    "+ If the probability, p<0.5:\n",
    "    - The data is labeled 0\r\n"
   ]
  },
  {
   "cell_type": "markdown",
   "id": "52637397-bbc3-4195-bc39-7a1b76f66280",
   "metadata": {},
   "source": [
    "![logistic_regression](../images/logistics-regression.png)"
   ]
  },
  {
   "cell_type": "markdown",
   "id": "18139eea-b3c6-4ff9-8f1d-a6e85d802570",
   "metadata": {},
   "source": [
    "```python\n",
    "# Import LogisticRegression\r\n",
    "from sklearn.linear_model import LogisticRegression\r\n",
    "\r\n",
    "# Instantiate the model\r\n",
    "logreg = LogisticRegression()\r\n",
    "\r\n",
    "# Fit the model\r\n",
    "logreg.fit(X_train, y_train)\r\n",
    "\r\n",
    "# Predict probabilities\r\n",
    "y_pred_probs = logreg.predict_proba(X_test)[:, 1]\r\n",
    "\r\n",
    "print(y_pred\n",
    "\n",
    "```_probs[:10])"
   ]
  },
  {
   "cell_type": "markdown",
   "id": "30c24340-dddb-4623-ac49-5fb699b5f9d2",
   "metadata": {},
   "source": [
    "## Probability thresholds\n",
    "By default, logistic regression threshold = 0.5Not specific to logistic regression, KNN classifiers also have thresholds. \n",
    "What happens if we vary the threshold?\r\n"
   ]
  },
  {
   "cell_type": "markdown",
   "id": "b2cee43d-a39a-4b71-8ebc-cb736d23d82e",
   "metadata": {},
   "source": [
    "## ROC(Receiver-Operating Characteristics Curve)\n",
    "<a href=\"https://www.youtube.com/watch?v=8xwpeixUGxY\" target=\"_blank\">ROC Curve explanation</a><br>\n",
    "<a href=\"https://scikit-learn.org/stable/auto_examples/model_selection/plot_roc.html\" target=\"_blank\">Open ROC Curve example in scikit-learn</a>\r\n"
   ]
  },
  {
   "cell_type": "markdown",
   "id": "bbc16f61-4750-4157-be33-0dca4bb675ce",
   "metadata": {},
   "source": [
    "\n",
    "![Area-under](../images/ROC-1.png)\n",
    "![Area-under](../images/ROC-2.png)\n",
    "![Area-under](../images/ROC-3.png)\n",
    "![Area-under](../images/ROC-4.png)"
   ]
  },
  {
   "cell_type": "markdown",
   "id": "704554f3-1215-4abb-94da-9208a5e0a73d",
   "metadata": {},
   "source": [
    "## Plotting the ROC curve\n",
    "```python\n",
    "from sklearn.metrics import roc_curve\n",
    "fpr, tpr, thresholds = roc_curve(y_test, y_pred_probs)\n",
    "plt.plot([0, 1], [0, 1], 'k--')\n",
    "plt.plot(fpr, tpr)\n",
    "plt.xlabel('False Positive Rate')\n",
    "plt.ylabel('True Positive Rate')\n",
    "plt.title('Logistic Regression ROC Curve')\n",
    "plt.show()"
   ]
  },
  {
   "cell_type": "markdown",
   "id": "509192e8-9d48-4a05-aa43-5a1194bbedb9",
   "metadata": {},
   "source": [
    "```python\n",
    "\n",
    "# Import roc_auc_score\n",
    "from sklearn.metrics import roc_auc_score\n",
    "\n",
    "# Calculate roc_auc_score\n",
    "print(roc_auc_score(y_test, y_pred_probs))\n",
    "\n",
    "# Calculate the confusion matrix\n",
    "print(confusion_matrix(y_test, y_pred))\n",
    "\n",
    "# Calculate the classification report\n",
    "print(classification_report(y_test, y_pred))\n",
    "\n",
    "```"
   ]
  },
  {
   "cell_type": "code",
   "execution_count": null,
   "id": "338e9239-8d56-44e3-8523-ae0e2f6c32da",
   "metadata": {},
   "outputs": [],
   "source": []
  }
 ],
 "metadata": {
  "kernelspec": {
   "display_name": "Python 3 (ipykernel)",
   "language": "python",
   "name": "python3"
  },
  "language_info": {
   "codemirror_mode": {
    "name": "ipython",
    "version": 3
   },
   "file_extension": ".py",
   "mimetype": "text/x-python",
   "name": "python",
   "nbconvert_exporter": "python",
   "pygments_lexer": "ipython3",
   "version": "3.12.4"
  }
 },
 "nbformat": 4,
 "nbformat_minor": 5
}
