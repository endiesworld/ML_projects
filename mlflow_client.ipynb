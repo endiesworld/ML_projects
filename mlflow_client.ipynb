{
 "cells": [
  {
   "cell_type": "code",
   "execution_count": 1,
   "id": "a467e048-59a3-4a65-98f7-5904615f3643",
   "metadata": {},
   "outputs": [],
   "source": [
    "from mlflow import MlflowClient\n",
    "from pprint import pprint\n",
    "from sklearn.ensemble import RandomForestRegressor"
   ]
  },
  {
   "cell_type": "markdown",
   "id": "e5e84b59",
   "metadata": {},
   "source": [
    "## Step 2 (Optional): Launch the MLflow Tracking Server\n",
    "To begin, you'll need to initiate the MLflow Tracking Server. Remember to keep the command prompt running during the tutorial, as closing it will shut down the server.\n",
    "\n",
    "```bash\n",
    "mlflow server --host 127.0.0.1 --port 8080\n",
    "```\n"
   ]
  },
  {
   "cell_type": "code",
   "execution_count": 3,
   "id": "116b3288",
   "metadata": {},
   "outputs": [],
   "source": [
    "client = MlflowClient(tracking_uri=\"http://127.0.0.1:8080\")"
   ]
  },
  {
   "cell_type": "code",
   "execution_count": null,
   "id": "89656848-e1a5-4dd5-9cca-a317233e0b22",
   "metadata": {},
   "outputs": [],
   "source": [
    "# Create new model\n",
    "client.create_registered_model(\"Insurance\")"
   ]
  },
  {
   "cell_type": "code",
   "execution_count": null,
   "id": "ff09f6d6-b8ec-4ca7-a80b-2caddf63530c",
   "metadata": {},
   "outputs": [],
   "source": [
    "# Insurance filter string\n",
    "insurance_filter_string = \"name LIKE 'Insurance%'\"\n",
    "\n",
    "# Search for Insurance models\n",
    "print(client.search_registered_models(filter_string=insurance_filter_string))\n",
    "\n",
    "# Not Insurance filter string\n",
    "not_insurance_filter_string = \"name != 'Insurance%'\"\n",
    "\n",
    "# Search for non Insurance models\n",
    "print(client.search_registered_models(filter_string=not_insurance_filter_string))"
   ]
  },
  {
   "cell_type": "markdown",
   "id": "49ce4c7d-2289-4673-9ed1-caefea6a3424",
   "metadata": {},
   "source": [
    "## Registering new models\n",
    "The MLflow Model Registry can also register models during a training run. This is helpful because it enables logging and registering a model under the same function."
   ]
  },
  {
   "cell_type": "code",
   "execution_count": null,
   "id": "e801232e-7472-4b2e-aed4-8259f9ba8964",
   "metadata": {},
   "outputs": [],
   "source": [
    "# Register the first (2022) model\n",
    "mlflow.register_model(\"model_2022\", \"Insurance\")\n",
    "\n",
    "# Register the second (2023) model\n",
    "mlflow.register_model(f\"runs:/{run_id}/model_2023\",\"Insurance\")"
   ]
  },
  {
   "cell_type": "code",
   "execution_count": null,
   "id": "81345233-c5a2-44fc-ac9f-fdf82b2deeff",
   "metadata": {},
   "outputs": [],
   "source": [
    "# Log the model using scikit-learn flavor\n",
    "mlflow.sklearn.log_model(lr, \"model\", registered_model_name=\"Insurance\")\n",
    "insurance_filter_string = \"name = 'Insurance'\"\n",
    "\n",
    "# Search for Insurance models\n",
    "print(client.search_registered_models(filter_string=insurance_filter_string))"
   ]
  },
  {
   "cell_type": "markdown",
   "id": "2bbd9985-4594-43d6-8af3-eb8fcb9f10f4",
   "metadata": {},
   "source": [
    "## Creating an MLproject\n",
    "An MLproject file is a yaml file that stores the configuration of an MLflow Project. The file defines information such as name of the Project, Python environment and entry points to be executed as part of a workflow.\n",
    "create an MLproject file to describe an MLflow Project: \n",
    "- Set the name of the Project to insurance_model.\n",
    "- Set the Python environment to use a file called python_env.yaml.\n",
    "- Create an entry point called main.\n",
    "- Create a command for the main entry point that uses python3.9 to execute train_model.py."
   ]
  },
  {
   "cell_type": "code",
   "execution_count": null,
   "id": "ce1df7a3-edbd-4a2f-a9d7-53147c951e56",
   "metadata": {},
   "outputs": [],
   "source": [
    "import mlflow\n",
    "\n",
    "# Set the run function from the MLflow Projects module\n",
    "mlflow.projects.run(\n",
    "  \t# Set the URI as the current working directory\n",
    "    uri='./',\n",
    "    # Set the entry point to main\n",
    "    entry_point='main',\n",
    "    # Set the experiment name as Insurance\n",
    "    experiment_name='Insurance',\n",
    "    env_manager=\"local\",\n",
    "    synchronous=True,\n",
    ")"
   ]
  },
  {
   "cell_type": "markdown",
   "id": "151a9b40",
   "metadata": {},
   "source": [
    "## Searching Experiments"
   ]
  },
  {
   "cell_type": "code",
   "execution_count": 4,
   "id": "bff177fc",
   "metadata": {},
   "outputs": [
    {
     "name": "stdout",
     "output_type": "stream",
     "text": [
      "[<Experiment: artifact_location='file:///c:/Users/endie/Documents/codes/Data_work/ML-AI/ML_projects/mlruns/944059796455378175', creation_time=1752217610862, experiment_id='944059796455378175', last_update_time=1752217610862, lifecycle_stage='active', name='Unicorn Model', tags={'version': '1.0'}>, <Experiment: artifact_location='mlflow-artifacts:/0', creation_time=1752215616171, experiment_id='0', last_update_time=1752215616171, lifecycle_stage='active', name='Default', tags={}>]\n"
     ]
    }
   ],
   "source": [
    "all_experiments = client.search_experiments()\n",
    "\n",
    "print(all_experiments)"
   ]
  },
  {
   "cell_type": "code",
   "execution_count": 6,
   "id": "208079bc",
   "metadata": {},
   "outputs": [
    {
     "name": "stdout",
     "output_type": "stream",
     "text": [
      "[{'name': 'Default', 'lifecycle_stage': 'active'}]\n"
     ]
    }
   ],
   "source": [
    "experiments = [{ \"name\": exp.name, \"lifecycle_stage\": exp.lifecycle_stage}  for exp in all_experiments if exp.name == \"Default\"]\n",
    "print(experiments)\n"
   ]
  },
  {
   "cell_type": "code",
   "execution_count": null,
   "id": "e5025b16",
   "metadata": {},
   "outputs": [],
   "source": []
  }
 ],
 "metadata": {
  "kernelspec": {
   "display_name": "venv",
   "language": "python",
   "name": "python3"
  },
  "language_info": {
   "codemirror_mode": {
    "name": "ipython",
    "version": 3
   },
   "file_extension": ".py",
   "mimetype": "text/x-python",
   "name": "python",
   "nbconvert_exporter": "python",
   "pygments_lexer": "ipython3",
   "version": "3.11.0"
  }
 },
 "nbformat": 4,
 "nbformat_minor": 5
}
