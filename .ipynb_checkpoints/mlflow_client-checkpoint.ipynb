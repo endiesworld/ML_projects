{
 "cells": [
  {
   "cell_type": "code",
   "execution_count": 2,
   "id": "a467e048-59a3-4a65-98f7-5904615f3643",
   "metadata": {},
   "outputs": [],
   "source": [
    "from mlflow import MlflowClient\n",
    "from pprint import pprint\n",
    "from sklearn.ensemble import RandomForestRegressor"
   ]
  },
  {
   "cell_type": "code",
   "execution_count": 3,
   "id": "116b3288",
   "metadata": {},
   "outputs": [],
   "source": [
    "client = MlflowClient(tracking_uri=\"http://127.0.0.1:8080\")"
   ]
  },
  {
   "cell_type": "markdown",
   "id": "151a9b40",
   "metadata": {},
   "source": [
    "## Searching Experiments"
   ]
  },
  {
   "cell_type": "code",
   "execution_count": 4,
   "id": "bff177fc",
   "metadata": {},
   "outputs": [
    {
     "name": "stdout",
     "output_type": "stream",
     "text": [
      "[<Experiment: artifact_location='file:///c:/Users/endie/Documents/codes/Data_work/ML-AI/ML_projects/mlruns/944059796455378175', creation_time=1752217610862, experiment_id='944059796455378175', last_update_time=1752217610862, lifecycle_stage='active', name='Unicorn Model', tags={'version': '1.0'}>, <Experiment: artifact_location='mlflow-artifacts:/0', creation_time=1752215616171, experiment_id='0', last_update_time=1752215616171, lifecycle_stage='active', name='Default', tags={}>]\n"
     ]
    }
   ],
   "source": [
    "all_experiments = client.search_experiments()\n",
    "\n",
    "print(all_experiments)"
   ]
  },
  {
   "cell_type": "code",
   "execution_count": 6,
   "id": "208079bc",
   "metadata": {},
   "outputs": [
    {
     "name": "stdout",
     "output_type": "stream",
     "text": [
      "[{'name': 'Default', 'lifecycle_stage': 'active'}]\n"
     ]
    }
   ],
   "source": [
    "experiments = [{ \"name\": exp.name, \"lifecycle_stage\": exp.lifecycle_stage}  for exp in all_experiments if exp.name == \"Default\"]\n",
    "print(experiments)\n"
   ]
  },
  {
   "cell_type": "code",
   "execution_count": null,
   "id": "e5025b16",
   "metadata": {},
   "outputs": [],
   "source": []
  }
 ],
 "metadata": {
  "kernelspec": {
   "display_name": "venv",
   "language": "python",
   "name": "python3"
  },
  "language_info": {
   "codemirror_mode": {
    "name": "ipython",
    "version": 3
   },
   "file_extension": ".py",
   "mimetype": "text/x-python",
   "name": "python",
   "nbconvert_exporter": "python",
   "pygments_lexer": "ipython3",
   "version": "3.11.0"
  }
 },
 "nbformat": 4,
 "nbformat_minor": 5
}
