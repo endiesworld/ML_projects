{
 "cells": [
  {
   "cell_type": "code",
   "execution_count": 3,
   "id": "1b0c859e",
   "metadata": {},
   "outputs": [],
   "source": [
    "from sklearn.model_selection import train_test_split\n",
    "from sklearn.linear_model import LogisticRegression\n",
    "from sklearn.metrics import mean_squared_error"
   ]
  },
  {
   "cell_type": "code",
   "execution_count": null,
   "metadata": {},
   "outputs": [],
   "source": []
  },
  {
   "cell_type": "code",
   "execution_count": 1,
   "id": "82b6f1cb",
   "metadata": {},
   "outputs": [],
   "source": [
    "import mlflow"
   ]
  },
  {
   "cell_type": "code",
   "execution_count": 2,
   "metadata": {},
   "outputs": [],
   "source": [
    "# Create new experiment\n",
    "mlflow.create_experiment(\"Unicorn Model\")\n",
    "# Set the experiment\n",
    "mlflow.set_experiment(\"Unicorn Model\")\n",
    "\n",
    "# Tag new experiment\n",
    "mlflow.set_experiment_tag(\"version\", \"1.0\")\n",
    "\n"
   ]
  },
  {
   "cell_type": "markdown",
   "id": "4ced46e7",
   "metadata": {},
   "source": [
    "## What is MLflow Tracking?\n",
    "+ Model Metrics\n",
    "    - F1, Recall, Accuracy, MSE, etc...\n",
    "+ Parameters \n",
    "    - library specific\n",
    "+ code\n",
    "    - train.py\n",
    "+ other artifacts\n",
    "    _ tokenizers, pickle, etc"
   ]
  },
  {
   "cell_type": "code",
   "execution_count": null,
   "id": "94a68e17",
   "metadata": {},
   "outputs": [],
   "source": [
    "# Start a run\n",
    "mlflow.start_run()\n",
    "\n",
    "# Model Training Code here\n",
    "lr = LogisticRegression(n_jobs=1)\n",
    "\n",
    "# Model evaluation Code here\n",
    "lr.fit(X_train, y_train)\n",
    "\n",
    "y_pred = lr.predict(X_test)\n",
    "\n",
    "r2_score = lr.score(y_test, y_pred)\n",
    "\n",
    "rmse = mean_squared_error(y_test, y_pred)\n"
   ]
  },
  {
   "cell_type": "code",
   "execution_count": null,
   "id": "2d5f2f5b",
   "metadata": {},
   "outputs": [],
   "source": [
    "# Log the metric r2_score as \"r2_score\"\n",
    "mlflow.log_metric(\"score\", score)\n",
    "\n",
    "# Log parameter n_jobs as \"n_jobs\"\n",
    "mlflow.log_param(\"n_jobs\", 1)\n",
    "\n",
    "# Log the training code\n",
    "mlflow.log_artifact(\"train.py\")"
   ]
  },
  {
   "cell_type": "code",
   "execution_count": null,
   "id": "7365de05",
   "metadata": {},
   "outputs": [],
   "source": [
    "# Create a filter string for R-squared score\n",
    "r_squared_filter = \"metrics.r2_score > .70\"\n",
    "\n",
    "# Search runs\n",
    "mlflow.search_runs(experiment_names=[\"Unicorn Sklearn Experiments\", \"Unicorn Other Experiments\"], \n",
    "                   filter_string=r_squared_filter, \n",
    "                   order_by=[\"metrics.r2_score DESC\"])"
   ]
  }
 ],
 "metadata": {
  "kernelspec": {
   "display_name": "venv",
   "language": "python",
   "name": "python3"
  },
  "language_info": {
   "codemirror_mode": {
    "name": "ipython",
    "version": 3
   },
   "file_extension": ".py",
   "mimetype": "text/x-python",
   "name": "python",
   "nbconvert_exporter": "python",
   "pygments_lexer": "ipython3",
   "version": "3.11.0"
  }
 },
 "nbformat": 4,
 "nbformat_minor": 5
}
