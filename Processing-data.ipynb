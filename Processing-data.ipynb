{
 "cells": [
  {
   "cell_type": "markdown",
   "id": "5341fd18-08ef-4312-9806-0a363b58d379",
   "metadata": {},
   "source": [
    "## Dealing with categorical features\n",
    "+ scikit-learn will not accept categorical features by default\n",
    "+ Need to convert categorical features into numeric values\n",
    "+ Convert to binary features called dummy variables\n",
    "  - **0:** means that the observation was not in that category\n",
    "  - **1:** means that the observation was that category"
   ]
  },
  {
   "cell_type": "markdown",
   "id": "2dd1b5e6-1b18-4831-bd14-9c3b7ae8caee",
   "metadata": {},
   "source": [
    "![dummy-variable](supervised-learning/images/dummy-variable-1.png)\n",
    "![dummy-variable](supervised-learning/images/dummy-variable-1.png)"
   ]
  },
  {
   "cell_type": "markdown",
   "id": "73075a51-6442-4b9d-aee6-ac4ee14feed1",
   "metadata": {},
   "source": [
    "## Dealing with categorical features in Python\n",
    "+ scikit-learn: OneHotEncoder()\n",
    "+ pandas: get_dummies()\n",
    "\n",
    "### Encoding dummy variables\n",
    "\n",
    "```python\n",
    "import pandas as pd\n",
    "from sklearn.model_selection import cross_val_score, KFold\n",
    "from sklearn.linear_model import Ridge\n",
    "\n",
    "music_df = pd.read_csv('music.csv')\n",
    "music_dummies = pd.get_dummies(music_df[\"genre\"], drop_first=True)\n",
    "\n",
    "music_dummies = pd.concat(music_df, music_dummies, axis=1)\n",
    "music_dummies = music_dummies.drop('genre', axis=1)\n",
    "\n",
    "\n",
    "# Create X and y\n",
    "X = music_dummies.drop(\"popularity\", axis=1)\n",
    "y = music_dummies[\"popularity\"]\n",
    "\n",
    "# Instantiate a ridge model\n",
    "ridge = Ridge(alpha=0.2)\n",
    "\n",
    "# Perform cross-validation\n",
    "scores = cross_val_score(ridge, X, y, cv=kf, scoring=\"neg_mean_squared_error\")\n",
    "\n",
    "# Calculate RMSE\n",
    "rmse = np.sqrt(-scores)\n",
    "print(\"Average RMSE: {}\".format(np.mean(rmse)))\n",
    "print(\"Standard Deviation of the target array: {}\".format(np.std(y)))\n",
    "\n",
    "```"
   ]
  },
  {
   "cell_type": "markdown",
   "id": "246a0bb5-7dc3-4b4c-b8a1-83bc984a46ee",
   "metadata": {},
   "source": [
    "## Handling Missing Data\n",
    "\n",
    "+ Dropping missing data\n",
    "\n",
    "```python\n",
    "\n",
    "print(music_df.isna().sum().sort_values())\n",
    "\n",
    "# Remove values where less than 5% are missing\n",
    "music_df = music_df.dropna(subset=[\"genre\", \"popularity\", \"loudness\", \"liveness\", \"tempo\"])\n",
    "```\n",
    "\n",
    "### Imputing values\n",
    "+ Imputation - use subject-matter expertise to replace missing data with educated guesses\n",
    "+ Common to use the mean\n",
    "+ Can also use the median, or another value\n",
    "+ For categorical values, we typically use the most frequent value - the mode\n",
    "+ Must split our data first, to avoid data leakage\n",
    "\n",
    "```python\n",
    "\n",
    "# Print missing values for each column\n",
    "print(music_df.isna().sum().sort_values())\n",
    "\n",
    "# Remove values where less than 5% are missing\n",
    "music_df = music_df.dropna(subset=[\"genre\", \"popularity\", \"loudness\", \"liveness\", \"tempo\"])\n",
    "\n",
    "# Convert genre to a binary feature\n",
    "music_df[\"genre\"] = np.where(music_df[\"genre\"] == \"Rock\", 1, 0)\n",
    "\n",
    "print(music_df.isna().sum().sort_values())\n",
    "print(\"Shape of the `music_df`: {}\".format(music_df.shape))\n",
    "```"
   ]
  },
  {
   "cell_type": "markdown",
   "id": "c86c6fd1-2344-42dd-b16a-5fc70f659de1",
   "metadata": {},
   "source": [
    "## Pipeline for song genre prediction\n",
    "\n",
    "Now it's time to build a pipeline. It will contain steps to impute missing values using the mean for each feature and build a KNN model for the classification of song genre.\n",
    "\n",
    "```python\n",
    "# Import modules\n",
    "from sklearn.impute import SimpleImputer\n",
    "from sklearn.pipeline import Pipeline\n",
    "from sklearn.neighbors import KNeighborsClassifier\n",
    "from sklearn.model_selection import train_test_split\n",
    "from sklearn.metrics import classification_report, confusion_matrix\n",
    "\n",
    "# Instantiate an imputer\n",
    "imputer = SimpleImputer()\n",
    "\n",
    "# Instantiate a knn model\n",
    "knn = KNeighborsClassifier(n_neighbors=3)\n",
    "\n",
    "# Build steps for the pipeline\n",
    "steps = [(\"imputer\", imputer), (\"knn\", knn)]\n",
    "\n",
    "# Create the pipeline\n",
    "pipeline = Pipeline(steps)\n",
    "\n",
    "# Fit the pipeline to the training data\n",
    "pipeline.fit(X_train, y_train)\n",
    "\n",
    "# Make predictions on the test set\n",
    "y_pred = pipeline.predict(X_test)\n",
    "\n",
    "# Print the confusion matrix\n",
    "print(confusion_matrix(y_test, y_pred))\n",
    "```"
   ]
  },
  {
   "cell_type": "code",
   "execution_count": null,
   "id": "0fde6c43-5f9f-4aab-9419-40d3990b9b90",
   "metadata": {},
   "outputs": [],
   "source": []
  }
 ],
 "metadata": {
  "kernelspec": {
   "display_name": "Python 3 (ipykernel)",
   "language": "python",
   "name": "python3"
  },
  "language_info": {
   "codemirror_mode": {
    "name": "ipython",
    "version": 3
   },
   "file_extension": ".py",
   "mimetype": "text/x-python",
   "name": "python",
   "nbconvert_exporter": "python",
   "pygments_lexer": "ipython3",
   "version": "3.12.4"
  }
 },
 "nbformat": 4,
 "nbformat_minor": 5
}
