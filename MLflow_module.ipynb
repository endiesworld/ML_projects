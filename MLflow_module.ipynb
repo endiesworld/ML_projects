{
 "cells": [
  {
   "cell_type": "code",
   "execution_count": 3,
   "id": "1b0c859e",
   "metadata": {},
   "outputs": [],
   "source": [
    "from sklearn.model_selection import train_test_split\n",
    "from sklearn.linear_model import LogisticRegression\n",
    "from sklearn.metrics import mean_squared_error"
   ]
  },
  {
   "cell_type": "markdown",
   "id": "c5746f01",
   "metadata": {},
   "source": [
    "## Package a machine learning model\n",
    "train a LinearRegression model from scikit-learn to predict profit of a Unicorn Company.\n",
    "use MLflow's built-in scikit-learn Flavor to package the model. You will use the Flavor's auto logging function to automatically log metrics, parameters and the model to MLflow Tracking when the fit estimator is called.\n",
    "\n",
    "## Storage Format\n",
    "MLflow uses a specific storage format in order to standardize the way models are packaged. \n",
    "\n",
    "## What's in an MLmodel file?\n",
    "You learned that the MLmodel file is used to define specific information about how our models can be loaded and integrated with existing ML tools.\n",
    "\n",
    "An MLmodel file has been set to a variable called \"mlmodel\". Use the print(mlmodel) in the IPython Shell to view the contents of the file.\n"
   ]
  },
  {
   "cell_type": "markdown",
   "id": "cbc5797b",
   "metadata": {},
   "source": [
    "## Model API\n",
    "MLflow Models are a way to standardize how ML models are packaged. The Model API is used to interact with models. With the Model API users can save, log, and load an MLflow model using a particular flavor.\n",
    "\n",
    "## MLflow REST API\n",
    "MLflow uses a REST API that allows users to create, list, and retrieve information programmatically from every component of MLflow. \n",
    "MLflow integrates with several common libraries such as scikit-learn. Using the mlflow-dot-sklearn module users can do the following: Use the save_model function to save a model to the local filesystem. The log_model function logs the model to MLflow Tracking as an artifact within a run. Finally, the load_model function is used to load the model from either the local filesystem or from MLflow Tracking.\n",
    "\n",
    "## Load model\n",
    "When loading an MLflow Model it is important to understand what location formats are supported. When loading a model from the local filesystem, load_model supports both relative and absolute paths. To load a model from MLflow Tracking, MLflow uses a \"runs\" format where the run id and model path must be included. MLflow also supports loading models from AWS S3 and other cloud storages."
   ]
  },
  {
   "cell_type": "markdown",
   "id": "b8fd7679",
   "metadata": {},
   "source": [
    "## Logging and loading a model\n",
    "The Model API provides a way to interact with our models by logging and loading them directly from MLflow Tracking in a standardized manner. Being able to interact with models is crucial during the ML lifecycle for the Model Engineering and Model Evaluation steps."
   ]
  },
  {
   "cell_type": "markdown",
   "id": "675d917c",
   "metadata": {},
   "source": [
    "## Creating a custom Python Class\n",
    "MLflow provides a way to create custom models in order to provide a way to support a wide variety of use cases. To create custom models, MLflow allows for users to create a Python Class which inherits mlflow.pyfunc.PythonModel Class. The PythonModel Class provides customization by providing methods for custom inference logic and artifact dependencies."
   ]
  },
  {
   "cell_type": "markdown",
   "id": "932a9faf",
   "metadata": {},
   "source": [
    "## MLflow Models Deployment\n",
    "MLflow Models is used to standardize model packaging, log models for tracking, and evaluate model performance. These features, in combination, cover the \"Model Engineering\" and \"Model Evaluation\" steps of the ML Lifecycle.\n",
    "\n",
    "MLflow serves models as a REST API. MLflow's API used for deploying models defines four endpoints: The ping and health endpoints are used to get health information about the REST API service. The version endpoint is used to retrieve the version of MLflow used on the REST API. And finally, the invocations endpoint is used to retrieve a score from the deployed model. The REST API uses port 5000 by default. Each endpoint can be reached once a model is deployed by going to the URL of where MLflow is running.\n",
    "\n",
    "## Invocations endpoint\n",
    "The invocations endpoint accepts either CSV or JSON as input. The REST API also needs a content-type header to be specified with either application-slash-json or application-slash-csv to specify the input format.\n",
    "\n",
    "### CSV and JSON format\n",
    "When using CSV input, the input must be a valid pandas DataFrame. Pandas has a to_csv method for CSV format representation. JSON input must be a dictionary with exactly one of dataframe_split or dataframe_records. The fields specify the type of input data being passed to the REST API."
   ]
  },
  {
   "cell_type": "markdown",
   "id": "214fe7cf",
   "metadata": {},
   "source": [
    "## Serving Models\n",
    "To serve a model, MLflow includes a command line interface command called \"Serve\". Serve is used to launch a local webserver that runs the REST API used for serving models.\n",
    "Model deployment is another important step of the ML Lifecycle. The MLflow command line interface includes a command for serving models. Models can be deployed with MLflow from the local filesystem, from MLflow Tracking, and from several cloud providers such as AWS S3.\n",
    "\n",
    "```bash\n",
    "mlflow models serve -m runs:/7de9bbe306224c2c9842beb11357d084/model\n",
    "```\n",
    "\n",
    "## Score from a served model\n",
    "Once a model has been served with mlflow serve command line interface command\n",
    "\n",
    "```bash\n",
    "curl -d '{\"dataframe_split\": {\"columns\": [\"x\"], \"data\": [[10]]}}' -H 'Content-Type: application/json' -X POST localhost:5000/invocations\n",
    "```\n",
    "\n"
   ]
  },
  {
   "cell_type": "code",
   "execution_count": null,
   "id": "c662b72b",
   "metadata": {},
   "outputs": [],
   "source": [
    "# Import Scikit-learn flavor\n",
    "import mlflow.sklearn\n",
    "\n",
    "# Set the experiment to \"Sklearn Model\"\n",
    "mlflow.set_experiment(\"Sklearn Model\")\n",
    "\n",
    "# Set Auto logging for Scikit-learn flavor \n",
    "mlflow.sklearn.autolog()\n",
    "\n",
    "lr = LinearRegression()\n",
    "lr.fit(X_train, y_train)\n",
    "\n",
    "# Get a prediction from test data\n",
    "print(lr.predict(X_test.iloc[[5]]))"
   ]
  },
  {
   "cell_type": "code",
   "execution_count": 1,
   "id": "82b6f1cb",
   "metadata": {},
   "outputs": [],
   "source": [
    "import mlflow"
   ]
  },
  {
   "cell_type": "code",
   "execution_count": 2,
   "id": "846aeb21",
   "metadata": {},
   "outputs": [],
   "source": [
    "# Create new experiment\n",
    "mlflow.create_experiment(\"Unicorn Model\")\n",
    "# Set the experiment\n",
    "mlflow.set_experiment(\"Unicorn Model\")\n",
    "\n",
    "# Tag new experiment\n",
    "mlflow.set_experiment_tag(\"version\", \"1.0\")\n",
    "\n"
   ]
  },
  {
   "cell_type": "markdown",
   "id": "4ced46e7",
   "metadata": {},
   "source": [
    "## What is MLflow Tracking?\n",
    "+ Model Metrics\n",
    "    - F1, Recall, Accuracy, MSE, etc...\n",
    "+ Parameters \n",
    "    - library specific\n",
    "+ code\n",
    "    - train.py\n",
    "+ other artifacts\n",
    "    _ tokenizers, pickle, etc"
   ]
  },
  {
   "cell_type": "code",
   "execution_count": null,
   "id": "94a68e17",
   "metadata": {},
   "outputs": [],
   "source": [
    "# Start a run\n",
    "mlflow.start_run()\n",
    "\n",
    "# Model Training Code here\n",
    "lr = LogisticRegression(n_jobs=1)\n",
    "\n",
    "# Model evaluation Code here\n",
    "lr.fit(X_train, y_train)\n",
    "\n",
    "y_pred = lr.predict(X_test)\n",
    "\n",
    "r2_score = lr.score(y_test, y_pred)\n",
    "\n",
    "rmse = mean_squared_error(y_test, y_pred)\n"
   ]
  },
  {
   "cell_type": "code",
   "execution_count": null,
   "id": "2d5f2f5b",
   "metadata": {},
   "outputs": [],
   "source": [
    "# Log the metric r2_score as \"r2_score\"\n",
    "mlflow.log_metric(\"score\", score)\n",
    "\n",
    "# Log parameter n_jobs as \"n_jobs\"\n",
    "mlflow.log_param(\"n_jobs\", 1)\n",
    "\n",
    "# Log the training code\n",
    "mlflow.log_artifact(\"train.py\")"
   ]
  },
  {
   "cell_type": "code",
   "execution_count": null,
   "id": "7365de05",
   "metadata": {},
   "outputs": [],
   "source": [
    "# Create a filter string for R-squared score\n",
    "r_squared_filter = \"metrics.r2_score > .70\"\n",
    "\n",
    "# Search runs\n",
    "mlflow.search_runs(experiment_names=[\"Unicorn Sklearn Experiments\", \"Unicorn Other Experiments\"], \n",
    "                   filter_string=r_squared_filter, \n",
    "                   order_by=[\"metrics.r2_score DESC\"])"
   ]
  },
  {
   "cell_type": "code",
   "execution_count": null,
   "id": "75d68bd3",
   "metadata": {},
   "outputs": [],
   "source": [
    "# Load model from local filesystem\n",
    "model = mlflow.sklearn.load_model(\"lr_local_v1\")\n",
    "\n",
    "# Training Data\n",
    "X = df[[\"R&D Spend\", \"Administration\", \"Marketing Spend\", \"State\"]]\n",
    "y = df[[\"Profit\"]]\n",
    "X_train, X_test, y_train, y_test = train_test_split(X, y, train_size=0.7,random_state=0)\n",
    "# Train Model\n",
    "model.fit(X_train, y_train)\n",
    "\n",
    "# Save model to local filesystem\n",
    "mlflow.sklearn.save_model(model, \"lr_local_v2\")"
   ]
  },
  {
   "cell_type": "code",
   "execution_count": null,
   "id": "1614c292",
   "metadata": {},
   "outputs": [],
   "source": [
    "# Log model to MLflow Tracking\n",
    "mlflow.sklearn.log_model(lr_model, \"lr_tracking\")\n",
    "\n",
    "# Get the last run\n",
    "run = mlflow.last_active_run()\n",
    "\n",
    "# Get the run_id of the above run\n",
    "run_id = run.info.run_id\n",
    "\n",
    "\n",
    "# Load model from MLflow Tracking\n",
    "model = mlflow.sklearn.load_model(f\"runs:/{run_id}/lr_tracking\")"
   ]
  },
  {
   "cell_type": "code",
   "execution_count": null,
   "id": "bf21fe5a",
   "metadata": {},
   "outputs": [],
   "source": [
    "# Create Python Class\n",
    "class CustomPredict(mlflow.pyfunc.PythonModel):\n",
    "    # Set method for loading model\n",
    "    def load_context(self, context):\n",
    "        self.model = mlflow.sklearn.load_model(\"./lr_model/\")\n",
    "    # Set method for custom inference     \n",
    "    def predict(self, context, model_input):\n",
    "        predictions = self.model.predict(model_input)\n",
    "        decoded_predictions = []  \n",
    "        for prediction in predictions:\n",
    "            if prediction == 0:\n",
    "                decoded_predictions.append(\"female\")\n",
    "            else:\n",
    "                decoded_predictions.append(\"male\")\n",
    "        return decoded_predictions"
   ]
  },
  {
   "cell_type": "code",
   "execution_count": null,
   "id": "7dc2a8ec",
   "metadata": {},
   "outputs": [],
   "source": [
    "# Eval Data\n",
    "eval_data = X_test\n",
    "eval_data[\"sex\"] = y_test\n",
    "# Log the lr_class model using Scikit-Learn Flavor\n",
    "mlflow.sklearn.log_model(lr_class, \"model\")\n",
    "\n",
    "# Get run id\n",
    "run = mlflow.last_active_run()\n",
    "run_id = run.info.run_id\n",
    "\n",
    "# Evaluate the logged model with eval_data data\n",
    "mlflow.evaluate(f\"runs:/{run_id}/model\", \n",
    "        data = eval_data, \n",
    "        targets=\"sex\",\n",
    "        model_type=\"classifier\"\n",
    ")"
   ]
  }
 ],
 "metadata": {
  "kernelspec": {
   "display_name": "venv",
   "language": "python",
   "name": "python3"
  },
  "language_info": {
   "codemirror_mode": {
    "name": "ipython",
    "version": 3
   },
   "file_extension": ".py",
   "mimetype": "text/x-python",
   "name": "python",
   "nbconvert_exporter": "python",
   "pygments_lexer": "ipython3",
   "version": "3.11.0"
  }
 },
 "nbformat": 4,
 "nbformat_minor": 5
}
